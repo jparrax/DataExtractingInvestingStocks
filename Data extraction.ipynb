{
 "cells": [
  {
   "cell_type": "code",
   "execution_count": 5,
   "metadata": {},
   "outputs": [
    {
     "name": "stdout",
     "output_type": "stream",
     "text": [
      "505\n"
     ]
    }
   ],
   "source": [
    "import pandas as pd\n",
    "import investpy\n",
    "i = 0\n",
    "no_of_stocks = 0 \n",
    "root = './Stocks/'\n",
    "form = '.csv'\n",
    "begin = '23/03/2019'\n",
    "end ='23/03/2020'\n",
    "Stocks = pd.read_csv('./Stocks.csv')\n",
    "no_of_stocks = len(Stocks.index)\n",
    "print (no_of_stocks)"
   ]
  },
  {
   "cell_type": "code",
   "execution_count": 6,
   "metadata": {},
   "outputs": [
    {
     "name": "stdout",
     "output_type": "stream",
     "text": [
      "An error occurred on BF.B\n",
      "An error occurred on BRK.B\n",
      "An error occurred on J\n",
      "An error occurred on PAYC\n",
      "An error occurred on TFC\n",
      "An error occurred on TT\n",
      "An error occurred on VIAC\n"
     ]
    }
   ],
   "source": [
    "for i in range (no_of_stocks):\n",
    "    try:\n",
    "        Stock = investpy.get_stock_historical_data(stock= Stocks.iloc[i]['Symbol'],\n",
    "                                                country='United states',\n",
    "                                                from_date = begin,\n",
    "                                                to_date = end)\n",
    "        StockPandas = pd.DataFrame(Stock)\n",
    "        StockPandas.to_csv (root + Stocks.iloc[i]['Symbol']+ form, index = True, header=True)\n",
    "    except:\n",
    "        print('An error occurred on ' + Stocks.iloc[i]['Symbol'])"
   ]
  },
  {
   "cell_type": "code",
   "execution_count": 7,
   "metadata": {},
   "outputs": [
    {
     "name": "stdout",
     "output_type": "stream",
     "text": [
      "An error occurred on BF.B\n",
      "An error occurred on BRK.B\n",
      "An error occurred on J\n",
      "An error occurred on PAYC\n",
      "An error occurred on TFC\n",
      "An error occurred on TT\n",
      "An error occurred on VIAC\n"
     ]
    }
   ],
   "source": [
    "folder = 'Portfolio/'\n",
    "Portfolio = pd.DataFrame()\n",
    "for i in range (no_of_stocks):\n",
    "    try:\n",
    "        Stock = investpy.get_stock_historical_data(stock= Stocks.iloc[i]['Symbol'],\n",
    "                                                    country='United states',\n",
    "                                                    from_date= begin,\n",
    "                                                    to_date= end)\n",
    "        StockPandas = pd.DataFrame(Stock)\n",
    "        Portfolio[Stocks.iloc[i]['Symbol']] = StockPandas['Close']\n",
    "    except:\n",
    "        print('An error occurred on ' + Stocks.iloc[i]['Symbol'])\n",
    "Portfolio.to_csv(root + folder + 'Portfolio' + form, index = True, header=True) "
   ]
  },
  {
   "cell_type": "code",
   "execution_count": 8,
   "metadata": {},
   "outputs": [
    {
     "name": "stdout",
     "output_type": "stream",
     "text": [
      "An error occurred on VIAC\n"
     ]
    }
   ],
   "source": [
    "folder = 'Communication/'\n",
    "Portfolio = pd.DataFrame()\n",
    "Stocks = pd.read_csv('./CommunicationStocks.csv')\n",
    "no_of_stocks = len(Stocks.index)\n",
    "for i in range (no_of_stocks):\n",
    "    try:\n",
    "        Stock = investpy.get_stock_historical_data(stock= Stocks.iloc[i]['Symbols'],\n",
    "                                                    country='United states',\n",
    "                                                    from_date= begin,\n",
    "                                                    to_date= end)\n",
    "        StockPandas = pd.DataFrame(Stock)\n",
    "        Portfolio[Stocks.iloc[i]['Symbols']] = StockPandas['Close']\n",
    "    except:\n",
    "        print('An error occurred on ' + Stocks.iloc[i]['Symbols'])\n",
    "Portfolio.to_csv(root + folder + 'Portfolio' + form, index = True, header=True) "
   ]
  },
  {
   "cell_type": "code",
   "execution_count": 9,
   "metadata": {},
   "outputs": [],
   "source": [
    "folder = 'Consumer/'\n",
    "Portfolio = pd.DataFrame()\n",
    "Stocks = pd.read_csv('./ConsumerStocks.csv')\n",
    "no_of_stocks = len(Stocks.index)\n",
    "for i in range (no_of_stocks):\n",
    "    try:\n",
    "        Stock = investpy.get_stock_historical_data(stock= Stocks.iloc[i]['Symbols'],\n",
    "                                                    country='United states',\n",
    "                                                    from_date= begin,\n",
    "                                                    to_date= end)\n",
    "        StockPandas = pd.DataFrame(Stock)\n",
    "        Portfolio[Stocks.iloc[i]['Symbols']] = StockPandas['Close']\n",
    "    except:\n",
    "        print('An error occurred on ' + Stocks.iloc[i]['Symbols'])\n",
    "Portfolio.to_csv(root + folder + 'Portfolio' + form, index = True, header=True) "
   ]
  },
  {
   "cell_type": "code",
   "execution_count": 10,
   "metadata": {},
   "outputs": [
    {
     "name": "stdout",
     "output_type": "stream",
     "text": [
      "An error occurred on BF.B\n"
     ]
    }
   ],
   "source": [
    "folder = 'ConsumerS/'\n",
    "Portfolio = pd.DataFrame()\n",
    "Stocks = pd.read_csv('./ConsumerSStocks.csv')\n",
    "no_of_stocks = len(Stocks.index)\n",
    "for i in range (no_of_stocks):\n",
    "    try:\n",
    "        Stock = investpy.get_stock_historical_data(stock= Stocks.iloc[i]['Symbols'],\n",
    "                                                    country='United states',\n",
    "                                                    from_date= begin,\n",
    "                                                    to_date= end)\n",
    "        StockPandas = pd.DataFrame(Stock)\n",
    "        Portfolio[Stocks.iloc[i]['Symbols']] = StockPandas['Close']\n",
    "    except:\n",
    "        print('An error occurred on ' + Stocks.iloc[i]['Symbols'])\n",
    "Portfolio.to_csv(root + folder + 'Portfolio' + form, index = True, header=True) "
   ]
  },
  {
   "cell_type": "code",
   "execution_count": 11,
   "metadata": {},
   "outputs": [],
   "source": [
    "folder = 'Energies/'\n",
    "Portfolio = pd.DataFrame()\n",
    "Stocks = pd.read_csv('./EnergiesStocks.csv')\n",
    "no_of_stocks = len(Stocks.index)\n",
    "for i in range (no_of_stocks):\n",
    "    try:\n",
    "        Stock = investpy.get_stock_historical_data(stock= Stocks.iloc[i]['Symbols'],\n",
    "                                                    country='United states',\n",
    "                                                    from_date= begin,\n",
    "                                                    to_date= end)\n",
    "        StockPandas = pd.DataFrame(Stock)\n",
    "        Portfolio[Stocks.iloc[i]['Symbols']] = StockPandas['Close']\n",
    "    except:\n",
    "        print('An error occurred on ' + Stocks.iloc[i]['Symbols'])\n",
    "Portfolio.to_csv(root + folder + 'Portfolio' + form, index = True, header=True) "
   ]
  },
  {
   "cell_type": "code",
   "execution_count": 12,
   "metadata": {},
   "outputs": [
    {
     "name": "stdout",
     "output_type": "stream",
     "text": [
      "An error occurred on BRK.B\n",
      "An error occurred on TFC\n"
     ]
    }
   ],
   "source": [
    "folder = 'Financial/'\n",
    "Portfolio = pd.DataFrame()\n",
    "Stocks = pd.read_csv('./FinancialStocks.csv')\n",
    "no_of_stocks = len(Stocks.index)\n",
    "for i in range (no_of_stocks):\n",
    "    try:\n",
    "        Stock = investpy.get_stock_historical_data(stock= Stocks.iloc[i]['Symbols'],\n",
    "                                                    country='United states',\n",
    "                                                    from_date= begin,\n",
    "                                                    to_date= end)\n",
    "        StockPandas = pd.DataFrame(Stock)\n",
    "        Portfolio[Stocks.iloc[i]['Symbols']] = StockPandas['Close']\n",
    "    except:\n",
    "        print('An error occurred on ' + Stocks.iloc[i]['Symbols'])\n",
    "Portfolio.to_csv(root + folder + 'Portfolio' + form, index = True, header=True) "
   ]
  },
  {
   "cell_type": "code",
   "execution_count": 13,
   "metadata": {},
   "outputs": [],
   "source": [
    "folder = 'Health/'\n",
    "Portfolio = pd.DataFrame()\n",
    "Stocks = pd.read_csv('./HealthStocks.csv')\n",
    "no_of_stocks = len(Stocks.index)\n",
    "for i in range (no_of_stocks):\n",
    "    try:\n",
    "        Stock = investpy.get_stock_historical_data(stock= Stocks.iloc[i]['Symbols'],\n",
    "                                                    country='United states',\n",
    "                                                    from_date= begin,\n",
    "                                                    to_date= end)\n",
    "        StockPandas = pd.DataFrame(Stock)\n",
    "        Portfolio[Stocks.iloc[i]['Symbols']] = StockPandas['Close']\n",
    "    except:\n",
    "        print('An error occurred on ' + Stocks.iloc[i]['Symbols'])\n",
    "Portfolio.to_csv(root + folder + 'Portfolio' + form, index = True, header=True) "
   ]
  },
  {
   "cell_type": "code",
   "execution_count": 14,
   "metadata": {},
   "outputs": [
    {
     "name": "stdout",
     "output_type": "stream",
     "text": [
      "An error occurred on J\n",
      "An error occurred on TT\n"
     ]
    }
   ],
   "source": [
    "folder = 'Industrial/'\n",
    "Portfolio = pd.DataFrame()\n",
    "Stocks = pd.read_csv('./IndustrialStocks.csv')\n",
    "no_of_stocks = len(Stocks.index)\n",
    "for i in range (no_of_stocks):\n",
    "    try:\n",
    "        Stock = investpy.get_stock_historical_data(stock= Stocks.iloc[i]['Symbols'],\n",
    "                                                    country='United states',\n",
    "                                                    from_date= begin,\n",
    "                                                    to_date= end)\n",
    "        StockPandas = pd.DataFrame(Stock)\n",
    "        Portfolio[Stocks.iloc[i]['Symbols']] = StockPandas['Close']\n",
    "    except:\n",
    "        print('An error occurred on ' + Stocks.iloc[i]['Symbols'])\n",
    "Portfolio.to_csv(root + folder + 'Portfolio' + form, index = True, header=True) "
   ]
  },
  {
   "cell_type": "code",
   "execution_count": 15,
   "metadata": {},
   "outputs": [
    {
     "name": "stdout",
     "output_type": "stream",
     "text": [
      "An error occurred on PAYC\n"
     ]
    }
   ],
   "source": [
    "folder = 'IT/'\n",
    "Portfolio = pd.DataFrame()\n",
    "Stocks = pd.read_csv('./ITStocks.csv')\n",
    "no_of_stocks = len(Stocks.index)\n",
    "for i in range (no_of_stocks):\n",
    "    try:\n",
    "        Stock = investpy.get_stock_historical_data(stock= Stocks.iloc[i]['Symbols'],\n",
    "                                                    country='United states',\n",
    "                                                    from_date= begin,\n",
    "                                                    to_date= end)\n",
    "        StockPandas = pd.DataFrame(Stock)\n",
    "        Portfolio[Stocks.iloc[i]['Symbols']] = StockPandas['Close']\n",
    "    except:\n",
    "        print('An error occurred on ' + Stocks.iloc[i]['Symbols'])\n",
    "Portfolio.to_csv(root + folder + 'Portfolio' + form, index = True, header=True) "
   ]
  },
  {
   "cell_type": "code",
   "execution_count": 16,
   "metadata": {},
   "outputs": [],
   "source": [
    "folder = 'Materials/'\n",
    "Portfolio = pd.DataFrame()\n",
    "Stocks = pd.read_csv('./MaterialsStocks.csv')\n",
    "no_of_stocks = len(Stocks.index)\n",
    "for i in range (no_of_stocks):\n",
    "    try:\n",
    "        Stock = investpy.get_stock_historical_data(stock= Stocks.iloc[i]['Symbols'],\n",
    "                                                    country='United states',\n",
    "                                                    from_date= begin,\n",
    "                                                    to_date= end)\n",
    "        StockPandas = pd.DataFrame(Stock)\n",
    "        Portfolio[Stocks.iloc[i]['Symbols']] = StockPandas['Close']\n",
    "    except:\n",
    "        print('An error occurred on ' + Stocks.iloc[i]['Symbols'])\n",
    "Portfolio.to_csv(root + folder + 'Portfolio' + form, index = True, header=True) "
   ]
  },
  {
   "cell_type": "code",
   "execution_count": 17,
   "metadata": {},
   "outputs": [],
   "source": [
    "folder = 'RealS/'\n",
    "Portfolio = pd.DataFrame()\n",
    "Stocks = pd.read_csv('./RealSStocks.csv')\n",
    "no_of_stocks = len(Stocks.index)\n",
    "for i in range (no_of_stocks):\n",
    "    try:\n",
    "        Stock = investpy.get_stock_historical_data(stock= Stocks.iloc[i]['Symbols'],\n",
    "                                                    country='United states',\n",
    "                                                    from_date= begin,\n",
    "                                                    to_date= end)\n",
    "        StockPandas = pd.DataFrame(Stock)\n",
    "        Portfolio[Stocks.iloc[i]['Symbols']] = StockPandas['Close']\n",
    "    except:\n",
    "        print('An error occurred on ' + Stocks.iloc[i]['Symbols'])\n",
    "Portfolio.to_csv(root + folder + 'Portfolio' + form, index = True, header=True) "
   ]
  },
  {
   "cell_type": "code",
   "execution_count": 18,
   "metadata": {},
   "outputs": [],
   "source": [
    "folder = 'Utilities/'\n",
    "Portfolio = pd.DataFrame()\n",
    "Stocks = pd.read_csv('./UtilitiesStocks.csv')\n",
    "no_of_stocks = len(Stocks.index)\n",
    "for i in range (no_of_stocks):\n",
    "    try:\n",
    "        Stock = investpy.get_stock_historical_data(stock= Stocks.iloc[i]['Symbols'],\n",
    "                                                    country='United states',\n",
    "                                                    from_date= begin,\n",
    "                                                    to_date= end)\n",
    "        StockPandas = pd.DataFrame(Stock)\n",
    "        Portfolio[Stocks.iloc[i]['Symbols']] = StockPandas['Close']\n",
    "    except:\n",
    "        print('An error occurred on ' + Stocks.iloc[i]['Symbols'])\n",
    "Portfolio.to_csv(root + folder + 'Portfolio' + form, index = True, header=True) "
   ]
  },
  {
   "cell_type": "code",
   "execution_count": null,
   "metadata": {},
   "outputs": [],
   "source": []
  }
 ],
 "metadata": {
  "kernelspec": {
   "display_name": "Python 3",
   "language": "python",
   "name": "python3"
  },
  "language_info": {
   "codemirror_mode": {
    "name": "ipython",
    "version": 3
   },
   "file_extension": ".py",
   "mimetype": "text/x-python",
   "name": "python",
   "nbconvert_exporter": "python",
   "pygments_lexer": "ipython3",
   "version": "3.7.3"
  }
 },
 "nbformat": 4,
 "nbformat_minor": 4
}
