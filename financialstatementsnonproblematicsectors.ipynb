{
 "cells": [
  {
   "cell_type": "code",
   "execution_count": 12,
   "metadata": {},
   "outputs": [],
   "source": [
    "import pandas as pd\n",
    "from bs4 import BeautifulSoup\n",
    "import numpy\n",
    "import requests\n",
    "import re"
   ]
  },
  {
   "cell_type": "code",
   "execution_count": 13,
   "metadata": {},
   "outputs": [],
   "source": [
    "class FinancialStatements: \n",
    "    \n",
    "    def getelementinlist(list,element):\n",
    "        try:\n",
    "            return list[element]\n",
    "        except:\n",
    "            return '-'\n",
    "        \n",
    "    def getFinancialStatements(self,Stocks, dates):\n",
    "        i = 0\n",
    "        self.financial_statements = []\n",
    "        self.stock_list = []\n",
    "        no_of_stocks = len(Stocks.index)\n",
    "        for i in range(no_of_stocks):\n",
    "            try:\n",
    "                urlfinancials = 'https://www.marketwatch.com/investing/stock/'+ Stocks.iloc[i]['Symbols'] +'/financials'\n",
    "                urlbalancesheet = 'https://www.marketwatch.com/investing/stock/'+ Stocks.iloc[i]['Symbols'] +'/financials/balance-sheet'\n",
    "                urlcashflow = 'https://www.marketwatch.com/investing/stock/'+ Stocks.iloc[i]['Symbols'] +'/financials/cash-flow'\n",
    "                text_soup_financials = BeautifulSoup(requests.get(urlfinancials).text,\"lxml\")\n",
    "                text_soup_balancesheet = BeautifulSoup(requests.get(urlbalancesheet).text,\"lxml\")\n",
    "                text_soup_cashflow = BeautifulSoup(requests.get(urlcashflow).text,\"lxml\")\n",
    "\n",
    "                # Income Statement\n",
    "                titlesfinancials = text_soup_financials.findAll('td', {'class': 'rowTitle'})\n",
    "                saleslist = []\n",
    "                netincomelist = []\n",
    "                for title in titlesfinancials:\n",
    "                    if 'Sales/Revenue' in title.text:\n",
    "                        saleslist.append ([td.text for td in title.findNextSiblings(attrs={'class': 'valueCell'}) if td.text])\n",
    "                    if 'Net Income' in title.text:\n",
    "                        netincomelist.append ([td.text for td in title.findNextSiblings(attrs={'class': 'valueCell'}) if td.text])\n",
    "\n",
    "                # Balance sheet\n",
    "                titlesbalancesheet = text_soup_balancesheet.findAll('td', {'class': 'rowTitle'})\n",
    "                totalaccountsreceivablelist = []\n",
    "                inventorieslist = []\n",
    "                totalcurrentassetslist = []\n",
    "                netpropertylist = []\n",
    "                intangiblelist = []\n",
    "                totalassetslist = []\n",
    "                accountspayablelist = []\n",
    "                totalcurrentliabilitieslist = []\n",
    "                totalliabilitieslist = [] \n",
    "                totalequitylist = []\n",
    "                for title in titlesbalancesheet:\n",
    "                    if 'Total Accounts Receivable' in title.text:\n",
    "                        totalaccountsreceivablelist.append ([td.text for td in title.findNextSiblings(attrs={'class': 'valueCell'}) if td.text])\n",
    "                    if 'Inventories' in title.text:\n",
    "                        inventorieslist.append ([td.text for td in title.findNextSiblings(attrs={'class': 'valueCell'}) if td.text])\n",
    "                    if 'Total Current Assets' in title.text:\n",
    "                        totalcurrentassetslist.append ([td.text for td in title.findNextSiblings(attrs={'class': 'valueCell'}) if td.text])\n",
    "                    if 'Net Property, Plant & Equipment' in title.text:\n",
    "                        netpropertylist.append ([td.text for td in title.findNextSiblings(attrs={'class': 'valueCell'}) if td.text])\n",
    "                    if 'Intangible Assets' in title.text:\n",
    "                        intangiblelist.append ([td.text for td in title.findNextSiblings(attrs={'class': 'valueCell'}) if td.text])\n",
    "                    if 'Total Assets' in title.text:\n",
    "                        totalassetslist.append ([td.text for td in title.findNextSiblings(attrs={'class': 'valueCell'}) if td.text])\n",
    "                    if 'Accounts Payable' in title.text:\n",
    "                        accountspayablelist.append ([td.text for td in title.findNextSiblings(attrs={'class': 'valueCell'}) if td.text])\n",
    "                    if 'Total Current Liabilities' in title.text:\n",
    "                        totalcurrentliabilitieslist.append ([td.text for td in title.findNextSiblings(attrs={'class': 'valueCell'}) if td.text])\n",
    "                    if 'Total Liabilities' in title.text:\n",
    "                        totalliabilitieslist.append ([td.text for td in title.findNextSiblings(attrs={'class': 'valueCell'}) if td.text])\n",
    "                    if 'Total Equity' in title.text:\n",
    "                        totalequitylist.append ([td.text for td in title.findNextSiblings(attrs={'class': 'valueCell'}) if td.text])\n",
    "\n",
    "                # Cash Flow\n",
    "                titlescashflow = text_soup_cashflow.findAll('td', {'class': 'rowTitle'})\n",
    "                netoperatingcashflowlist = []\n",
    "                netinvestingcashflowlist = []\n",
    "                for title in titlescashflow:\n",
    "                    if 'Net Operating Cash Flow' in title.text:\n",
    "                        netoperatingcashflowlist.append ([td.text for td in title.findNextSiblings(attrs={'class': 'valueCell'}) if td.text])\n",
    "                    if 'Net Investing Cash Flow' in title.text:\n",
    "                        netinvestingcashflowlist.append ([td.text for td in title.findNextSiblings(attrs={'class': 'valueCell'}) if td.text])\n",
    "\n",
    "                # Income Statement\n",
    "                sales = FinancialStatements.getelementinlist(saleslist,0)\n",
    "                netincome = FinancialStatements.getelementinlist(netincomelist,0)\n",
    "\n",
    "                #Balance Sheet\n",
    "                totalaccountsreceivable = FinancialStatements.getelementinlist(totalaccountsreceivablelist,0)\n",
    "                inventories = FinancialStatements.getelementinlist(inventorieslist,0)\n",
    "                totalcurrentassets = FinancialStatements.getelementinlist(totalcurrentassetslist,0)\n",
    "                netproperty = FinancialStatements.getelementinlist(netpropertylist,0)\n",
    "                intangible = FinancialStatements.getelementinlist(intangiblelist,0)\n",
    "                totalassets = FinancialStatements.getelementinlist(totalassetslist,1)\n",
    "                accountspayable = FinancialStatements.getelementinlist(accountspayablelist,0)\n",
    "                totalcurrentliabilities = FinancialStatements.getelementinlist(totalcurrentliabilitieslist,0)\n",
    "                totalliabilities = FinancialStatements.getelementinlist(totalliabilitieslist,0)\n",
    "                totalequity = FinancialStatements.getelementinlist(totalequitylist,0)\n",
    "\n",
    "                #Cash Flow\n",
    "                netoperatingcashflow = FinancialStatements.getelementinlist(netoperatingcashflowlist,0)\n",
    "                netinvestingcashflow = FinancialStatements.getelementinlist(netinvestingcashflowlist,0)\n",
    "                \n",
    "                financialStatements= pd.DataFrame({'sales': sales,'netincome': netincome, \n",
    "                                                   'totalaccountsreceivable': totalaccountsreceivable, 'inventories': inventories,\n",
    "                                                   'totalcurrentassets': totalcurrentassets, 'netproperty': netproperty,\n",
    "                                                   'intangible': intangible, 'totalassets': totalassets,\n",
    "                                                   'accountspayable': accountspayable, 'totalcurrentliabilities': totalcurrentliabilities,\n",
    "                                                   'totalliabilities': totalliabilities,'totalequity': totalequity, \n",
    "                                                   'netoperatingcashflow': netoperatingcashflow, 'netinvestingcashflow': netinvestingcashflow \n",
    "                                                   }, index = dates)\n",
    "                self.financial_statements.append(financialStatements)\n",
    "                self.stock_list.append(Stocks.iloc[i]['Symbols'])\n",
    "#                 financial_statements.to_csv(root + folder + Stocks.iloc[i]['Symbols']+ 'FinancialStatements' + form, index = True, header=True)\n",
    "            except:\n",
    "                print('An error occurred on ' + Stocks.iloc[i]['Symbols'])\n",
    "    \n",
    "    def toInt(self,financial_statements):\n",
    "        self.int_financial_statements = []\n",
    "        self.int_stock_list = []\n",
    "        percentageCount = 0\n",
    "        i = 0\n",
    "        no_of_financialstatements = len(financial_statements)\n",
    "        for i in range(no_of_financialstatements):\n",
    "            isPercentage = 0\n",
    "            try:\n",
    "                indexes = financial_statements[i].index\n",
    "                columns = financial_statements[i].columns\n",
    "                for column in columns:\n",
    "                    for index in indexes:\n",
    "                        aux = financial_statements[i][column][index]\n",
    "                        if re.search(r'%',aux):\n",
    "                            isPercentage = 1\n",
    "                        if re.search(r'-',aux):\n",
    "                            if re.search(r'%',aux):\n",
    "                                isPercentage = 1\n",
    "                            else:\n",
    "                                aux1 = float(re.sub(r'-','0',aux))\n",
    "                                financial_statements[i][column][index] = int(aux1)\n",
    "                        if re.search(r'T',aux):\n",
    "                            if re.search(r'[()]',aux):\n",
    "                                aux1 = float(re.sub(r'[T()]','',aux))*1000000000000*-1\n",
    "                                financial_statements[i][column][index] = int(aux1)\n",
    "                            else:\n",
    "                                aux1 = float(re.sub(r'[T]','',aux))*1000000000000\n",
    "                                financial_statements[i][column][index] = int(aux1)\n",
    "                        if re.search(r'B',aux):\n",
    "                            if re.search(r'[()]',aux):\n",
    "                                aux1 = float(re.sub(r'[B()]','',aux))*1000000000*-1\n",
    "                                financial_statements[i][column][index] = int(aux1)\n",
    "                            else:\n",
    "                                aux1 = float(re.sub(r'[B]','',aux))*1000000000\n",
    "                                financial_statements[i][column][index] = int(aux1)\n",
    "                        if re.search(r'M',aux):\n",
    "                            if re.search(r'[()]',aux):\n",
    "                                aux1 = float(re.sub(r'[M()]','',aux))*1000000*-1\n",
    "                                financial_statements[i][column][index] = int(aux1)\n",
    "                            else:\n",
    "                                aux1 = float(re.sub(r'[M]','',aux))*1000000\n",
    "                                financial_statements[i][column][index] = int(aux1)\n",
    "            except:\n",
    "                print('An error occurred on ' + self.stock_list[i])\n",
    "            if isPercentage == 0:\n",
    "                self.int_financial_statements.append(financial_statements[i])\n",
    "                self.int_stock_list.append(self.stock_list[i])\n",
    "\n",
    "    def toCsv(self,root,folder,form):\n",
    "        i = 0\n",
    "        for i in range(len(self.int_financial_statements)):\n",
    "            self.int_financial_statements[i].to_csv(root + folder + self.int_stock_list[i] + 'FinancialStatements' + form, index = True, header=True)"
   ]
  },
  {
   "cell_type": "code",
   "execution_count": 70,
   "metadata": {},
   "outputs": [],
   "source": [
    "class FinancialAnalisis: \n",
    "    \n",
    "    def solveMissingDataError(self,list,numerator,operator):\n",
    "        i = 0\n",
    "        auxlist = []\n",
    "        years = numerator.index\n",
    "        for year in years:\n",
    "            try:\n",
    "                auxlist.append(numerator[year]/operator[year]) \n",
    "            except:\n",
    "                auxlist.append(0)\n",
    "        list.append(numpy.mean(auxlist))\n",
    "\n",
    "    def financialAnalisis(self,intFinancialStatements,stockList,wacc):\n",
    "        i = 0 \n",
    "        no_of_financial_statements = len(intFinancialStatements)\n",
    "        roe = []\n",
    "        currentratio = []\n",
    "        shorttermdebt = []\n",
    "        longtermdebt = []\n",
    "        investingcashflowmargin = []\n",
    "        eva = []\n",
    "       \n",
    "        for i in range(no_of_financial_statements):\n",
    "            try:\n",
    "                self.solveMissingDataError(roe,intFinancialStatements[i]['netincome'],intFinancialStatements[i]['totalequity'])\n",
    "                self.solveMissingDataError(currentratio,intFinancialStatements[i]['totalcurrentassets'],intFinancialStatements[i]['totalcurrentliabilities'])\n",
    "                self.solveMissingDataError(shorttermdebt, intFinancialStatements[i]['totalcurrentliabilities'],intFinancialStatements[i]['totalassets'])\n",
    "                self.solveMissingDataError(longtermdebt,intFinancialStatements[i]['totalliabilities'],intFinancialStatements[i]['totalassets'])\n",
    "                self.solveMissingDataError(investingcashflowmargin,intFinancialStatements[i]['netinvestingcashflow'],intFinancialStatements[i]['sales'])\n",
    "                ktno = intFinancialStatements[i]['totalaccountsreceivable'] + intFinancialStatements[i]['inventories'] - intFinancialStatements[i]['accountspayable']\n",
    "                fixedassets = intFinancialStatements[i]['netproperty'] + intFinancialStatements[i]['intangible']\n",
    "                andeo = ktno + fixedassets\n",
    "                eva.append(numpy.mean(intFinancialStatements[i]['netoperatingcashflow'] - andeo * wacc['WACC'][0]))\n",
    "            except:\n",
    "                print('An error ocurred on ' + stockList[i])\n",
    "        \n",
    "        self.financial_analisis = pd.DataFrame({\n",
    "            'roe': roe,\n",
    "            'currentratio': currentratio,\n",
    "            'shorttermdebt': shorttermdebt,\n",
    "            'longtermdebt': longtermdebt,\n",
    "            'investingcashflowmargin': investingcashflowmargin,\n",
    "            'eva': eva,\n",
    "        },index = [stockList])\n",
    "        \n",
    "        self.descriptives_financial_analisis = pd.DataFrame({\n",
    "            'mean': numpy.mean(self.financial_analisis),\n",
    "            'std': numpy.std(self.financial_analisis)\n",
    "        }).T\n",
    "        \n",
    "    def toCsv(self,root,folder,form):\n",
    "        self.financial_analisis.to_csv(root + folder + 'FinancialAnalisis' + form, index = True, header=True)\n",
    "        self.descriptives_financial_analisis.to_csv(root + folder + 'DescriptivesFinancialAnalisis' + form, index = True, header=True)"
   ]
  },
  {
   "cell_type": "code",
   "execution_count": 15,
   "metadata": {},
   "outputs": [],
   "source": [
    "dates = [2015,2016,2017,2018,2019]\n",
    "root = './Stocks/'\n",
    "form = '.csv'"
   ]
  },
  {
   "cell_type": "code",
   "execution_count": 82,
   "metadata": {},
   "outputs": [],
   "source": [
    "folder = 'Communication/'\n",
    "Stocks = pd.read_csv('./CommunicationStocks.csv')\n",
    "wacc = pd.read_csv('./WACC/Communication.csv')"
   ]
  },
  {
   "cell_type": "code",
   "execution_count": 17,
   "metadata": {},
   "outputs": [],
   "source": [
    "CommunicationfinancialStatements = FinancialStatements()\n",
    "CommunicationfinancialStatements.getFinancialStatements(Stocks, dates)\n",
    "CommunicationfinancialStatements.toInt(CommunicationfinancialStatements.financial_statements)\n",
    "CommunicationfinancialStatements.toCsv(root,folder,form)"
   ]
  },
  {
   "cell_type": "code",
   "execution_count": 83,
   "metadata": {},
   "outputs": [],
   "source": [
    "CommunicationFinancialAnalisis = FinancialAnalisis()\n",
    "CommunicationFinancialAnalisis.financialAnalisis(CommunicationfinancialStatements.int_financial_statements, CommunicationfinancialStatements.int_stock_list,wacc)\n",
    "CommunicationFinancialAnalisis.toCsv(root,folder,form)"
   ]
  },
  {
   "cell_type": "code",
   "execution_count": 84,
   "metadata": {},
   "outputs": [],
   "source": [
    "folder = 'Consumer/'\n",
    "Stocks = pd.read_csv('./ConsumerStocks.csv')\n",
    "wacc = pd.read_csv('./WACC/Consumer.csv')"
   ]
  },
  {
   "cell_type": "code",
   "execution_count": 20,
   "metadata": {},
   "outputs": [],
   "source": [
    "ConsumerfinancialStatements = FinancialStatements()\n",
    "ConsumerfinancialStatements.getFinancialStatements(Stocks, dates)\n",
    "ConsumerfinancialStatements.toInt(ConsumerfinancialStatements.financial_statements)\n",
    "ConsumerfinancialStatements.toCsv(root,folder,form)"
   ]
  },
  {
   "cell_type": "code",
   "execution_count": 85,
   "metadata": {},
   "outputs": [],
   "source": [
    "ConsumerFinancialAnalisis = FinancialAnalisis()\n",
    "ConsumerFinancialAnalisis.financialAnalisis(ConsumerfinancialStatements.int_financial_statements, ConsumerfinancialStatements.int_stock_list,wacc)\n",
    "ConsumerFinancialAnalisis.toCsv(root,folder,form)"
   ]
  },
  {
   "cell_type": "code",
   "execution_count": 86,
   "metadata": {},
   "outputs": [],
   "source": [
    "folder = 'ConsumerS/'\n",
    "Stocks = pd.read_csv('./ConsumerSStocks.csv')\n",
    "wacc = pd.read_csv('./WACC/ConsumerS.csv')"
   ]
  },
  {
   "cell_type": "code",
   "execution_count": 23,
   "metadata": {},
   "outputs": [],
   "source": [
    "ConsumerSfinancialStatements = FinancialStatements()\n",
    "ConsumerSfinancialStatements.getFinancialStatements(Stocks, dates)\n",
    "ConsumerSfinancialStatements.toInt(ConsumerSfinancialStatements.financial_statements)\n",
    "ConsumerSfinancialStatements.toCsv(root,folder,form)"
   ]
  },
  {
   "cell_type": "code",
   "execution_count": 87,
   "metadata": {},
   "outputs": [],
   "source": [
    "ConsumerSFinancialAnalisis = FinancialAnalisis()\n",
    "ConsumerSFinancialAnalisis.financialAnalisis(ConsumerSfinancialStatements.int_financial_statements, ConsumerSfinancialStatements.int_stock_list,wacc)\n",
    "ConsumerSFinancialAnalisis.toCsv(root,folder,form)"
   ]
  },
  {
   "cell_type": "code",
   "execution_count": 88,
   "metadata": {},
   "outputs": [],
   "source": [
    "folder = 'Energies/'\n",
    "Stocks = pd.read_csv('./EnergiesStocks.csv')\n",
    "wacc = pd.read_csv('./WACC/Energies.csv')"
   ]
  },
  {
   "cell_type": "code",
   "execution_count": 36,
   "metadata": {},
   "outputs": [],
   "source": [
    "EnergiesfinancialStatements = FinancialStatements()\n",
    "EnergiesfinancialStatements.getFinancialStatements(Stocks, dates)\n",
    "EnergiesfinancialStatements.toInt(EnergiesfinancialStatements.financial_statements)\n",
    "EnergiesfinancialStatements.toCsv(root,folder,form)"
   ]
  },
  {
   "cell_type": "code",
   "execution_count": 89,
   "metadata": {},
   "outputs": [],
   "source": [
    "EnergiesFinancialAnalisis = FinancialAnalisis()\n",
    "EnergiesFinancialAnalisis.financialAnalisis(EnergiesfinancialStatements.int_financial_statements, EnergiesfinancialStatements.int_stock_list,wacc)\n",
    "EnergiesFinancialAnalisis.toCsv(root,folder,form)"
   ]
  },
  {
   "cell_type": "code",
   "execution_count": 90,
   "metadata": {},
   "outputs": [],
   "source": [
    "folder = 'Industrial/'\n",
    "Stocks = pd.read_csv('./IndustrialStocks.csv')\n",
    "wacc = pd.read_csv('./WACC/Industrial.csv')"
   ]
  },
  {
   "cell_type": "code",
   "execution_count": 40,
   "metadata": {},
   "outputs": [],
   "source": [
    "IndustrialfinancialStatements = FinancialStatements()\n",
    "IndustrialfinancialStatements.getFinancialStatements(Stocks, dates)\n",
    "IndustrialfinancialStatements.toInt(IndustrialfinancialStatements.financial_statements)\n",
    "IndustrialfinancialStatements.toCsv(root,folder,form)"
   ]
  },
  {
   "cell_type": "code",
   "execution_count": 91,
   "metadata": {},
   "outputs": [],
   "source": [
    "IndustrialFinancialAnalisis = FinancialAnalisis()\n",
    "IndustrialFinancialAnalisis.financialAnalisis(IndustrialfinancialStatements.int_financial_statements, IndustrialfinancialStatements.int_stock_list,wacc)\n",
    "IndustrialFinancialAnalisis.toCsv(root,folder,form)"
   ]
  },
  {
   "cell_type": "code",
   "execution_count": 92,
   "metadata": {},
   "outputs": [],
   "source": [
    "folder = 'Materials/'\n",
    "Stocks = pd.read_csv('./MaterialsStocks.csv')\n",
    "wacc = pd.read_csv('./WACC/Materials.csv')"
   ]
  },
  {
   "cell_type": "code",
   "execution_count": 43,
   "metadata": {},
   "outputs": [],
   "source": [
    "MaterialsfinancialStatements = FinancialStatements()\n",
    "MaterialsfinancialStatements.getFinancialStatements(Stocks, dates)\n",
    "MaterialsfinancialStatements.toInt(MaterialsfinancialStatements.financial_statements)\n",
    "MaterialsfinancialStatements.toCsv(root,folder,form)"
   ]
  },
  {
   "cell_type": "code",
   "execution_count": 93,
   "metadata": {},
   "outputs": [],
   "source": [
    "MaterialsFinancialAnalisis = FinancialAnalisis()\n",
    "MaterialsFinancialAnalisis.financialAnalisis(MaterialsfinancialStatements.int_financial_statements, MaterialsfinancialStatements.int_stock_list,wacc)\n",
    "MaterialsFinancialAnalisis.toCsv(root,folder,form)"
   ]
  },
  {
   "cell_type": "code",
   "execution_count": 94,
   "metadata": {},
   "outputs": [],
   "source": [
    "folder = 'Utilities/'\n",
    "Stocks = pd.read_csv('./UtilitiesStocks.csv')\n",
    "wacc = pd.read_csv('./WACC/Utilities.csv')"
   ]
  },
  {
   "cell_type": "code",
   "execution_count": 46,
   "metadata": {},
   "outputs": [],
   "source": [
    "UtilitiesfinancialStatements = FinancialStatements()\n",
    "UtilitiesfinancialStatements.getFinancialStatements(Stocks, dates)\n",
    "UtilitiesfinancialStatements.toInt(UtilitiesfinancialStatements.financial_statements)\n",
    "UtilitiesfinancialStatements.toCsv(root,folder,form)"
   ]
  },
  {
   "cell_type": "code",
   "execution_count": 95,
   "metadata": {},
   "outputs": [],
   "source": [
    "UtilitiesFinancialAnalisis = FinancialAnalisis()\n",
    "UtilitiesFinancialAnalisis.financialAnalisis(UtilitiesfinancialStatements.int_financial_statements, UtilitiesfinancialStatements.int_stock_list,wacc)\n",
    "UtilitiesFinancialAnalisis.toCsv(root,folder,form)"
   ]
  },
  {
   "cell_type": "code",
   "execution_count": 96,
   "metadata": {},
   "outputs": [],
   "source": [
    "folder = 'IT/'\n",
    "Stocks = pd.read_csv('./ITStocks.csv')\n",
    "wacc = pd.read_csv('./WACC/IT.csv')"
   ]
  },
  {
   "cell_type": "code",
   "execution_count": 55,
   "metadata": {},
   "outputs": [],
   "source": [
    "ITfinancialStatements = FinancialStatements()\n",
    "ITfinancialStatements.getFinancialStatements(Stocks, dates)\n",
    "ITfinancialStatements.toInt(ITfinancialStatements.financial_statements)\n",
    "ITfinancialStatements.toCsv(root,folder,form)"
   ]
  },
  {
   "cell_type": "code",
   "execution_count": 97,
   "metadata": {},
   "outputs": [],
   "source": [
    "ITFinancialAnalisis = FinancialAnalisis()\n",
    "ITFinancialAnalisis.financialAnalisis(ITfinancialStatements.int_financial_statements, ITfinancialStatements.int_stock_list,wacc)\n",
    "ITFinancialAnalisis.toCsv(root,folder,form)"
   ]
  },
  {
   "cell_type": "code",
   "execution_count": 98,
   "metadata": {},
   "outputs": [],
   "source": [
    "folder = 'Health/'\n",
    "Stocks = pd.read_csv('./HealthStocks.csv')\n",
    "wacc = pd.read_csv('./WACC/Health.csv')"
   ]
  },
  {
   "cell_type": "code",
   "execution_count": 58,
   "metadata": {},
   "outputs": [],
   "source": [
    "HealthfinancialStatements = FinancialStatements()\n",
    "HealthfinancialStatements.getFinancialStatements(Stocks, dates)\n",
    "HealthfinancialStatements.toInt(HealthfinancialStatements.financial_statements)\n",
    "HealthfinancialStatements.toCsv(root,folder,form)"
   ]
  },
  {
   "cell_type": "code",
   "execution_count": 99,
   "metadata": {},
   "outputs": [],
   "source": [
    "HealthFinancialAnalisis = FinancialAnalisis()\n",
    "HealthFinancialAnalisis.financialAnalisis(HealthfinancialStatements.int_financial_statements, HealthfinancialStatements.int_stock_list,wacc)\n",
    "HealthFinancialAnalisis.toCsv(root,folder,form)"
   ]
  },
  {
   "cell_type": "code",
   "execution_count": null,
   "metadata": {},
   "outputs": [],
   "source": []
  }
 ],
 "metadata": {
  "kernelspec": {
   "display_name": "Python 3",
   "language": "python",
   "name": "python3"
  },
  "language_info": {
   "codemirror_mode": {
    "name": "ipython",
    "version": 3
   },
   "file_extension": ".py",
   "mimetype": "text/x-python",
   "name": "python",
   "nbconvert_exporter": "python",
   "pygments_lexer": "ipython3",
   "version": "3.7.3"
  }
 },
 "nbformat": 4,
 "nbformat_minor": 4
}
