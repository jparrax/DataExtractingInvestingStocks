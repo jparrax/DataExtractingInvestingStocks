{
 "cells": [
  {
   "cell_type": "code",
   "execution_count": 1,
   "metadata": {},
   "outputs": [],
   "source": [
    "import pandas as pd\n",
    "from bs4 import BeautifulSoup\n",
    "import numpy\n",
    "import requests\n",
    "import re"
   ]
  },
  {
   "cell_type": "code",
   "execution_count": 2,
   "metadata": {},
   "outputs": [],
   "source": [
    "class FinancialStatements: \n",
    "    \n",
    "    def getelementinlist(list,element):\n",
    "        try:\n",
    "            return list[element]\n",
    "        except:\n",
    "            return '-'\n",
    "        \n",
    "    def getFinancialStatements(self,Stocks, dates):\n",
    "        i = 0\n",
    "        self.financial_statements = []\n",
    "        self.stock_list = []\n",
    "        no_of_stocks = len(Stocks.index)\n",
    "        for i in range(no_of_stocks):\n",
    "            try:\n",
    "                urlfinancials = 'https://www.marketwatch.com/investing/stock/'+ Stocks.iloc[i]['Symbols'] +'/financials'\n",
    "                urlbalancesheet = 'https://www.marketwatch.com/investing/stock/'+ Stocks.iloc[i]['Symbols'] +'/financials/balance-sheet'\n",
    "                urlcashflow = 'https://www.marketwatch.com/investing/stock/'+ Stocks.iloc[i]['Symbols'] +'/financials/cash-flow'\n",
    "                text_soup_financials = BeautifulSoup(requests.get(urlfinancials).text,\"lxml\")\n",
    "                text_soup_balancesheet = BeautifulSoup(requests.get(urlbalancesheet).text,\"lxml\")\n",
    "                text_soup_cashflow = BeautifulSoup(requests.get(urlcashflow).text,\"lxml\")\n",
    "\n",
    "                # Income Statement\n",
    "                titlesfinancials = text_soup_financials.findAll('td', {'class': 'rowTitle'})\n",
    "                saleslist = []\n",
    "                netincomelist = []\n",
    "                for title in titlesfinancials:\n",
    "                    if 'Sales/Revenue' in title.text:\n",
    "                        saleslist.append ([td.text for td in title.findNextSiblings(attrs={'class': 'valueCell'}) if td.text])\n",
    "                    if 'Net Income' in title.text:\n",
    "                        netincomelist.append ([td.text for td in title.findNextSiblings(attrs={'class': 'valueCell'}) if td.text])\n",
    "\n",
    "                # Balance sheet\n",
    "                titlesbalancesheet = text_soup_balancesheet.findAll('td', {'class': 'rowTitle'})\n",
    "                totalaccountsreceivablelist = []\n",
    "                inventorieslist = []\n",
    "                totalcurrentassetslist = []\n",
    "                netpropertylist = []\n",
    "                intangiblelist = []\n",
    "                totalassetslist = []\n",
    "                accountspayablelist = []\n",
    "                totalcurrentliabilitieslist = []\n",
    "                totalliabilitieslist = [] \n",
    "                totalequitylist = []\n",
    "                for title in titlesbalancesheet:\n",
    "                    if 'Total Accounts Receivable' in title.text:\n",
    "                        totalaccountsreceivablelist.append ([td.text for td in title.findNextSiblings(attrs={'class': 'valueCell'}) if td.text])\n",
    "                    if 'Inventories' in title.text:\n",
    "                        inventorieslist.append ([td.text for td in title.findNextSiblings(attrs={'class': 'valueCell'}) if td.text])\n",
    "                    if 'Total Current Assets' in title.text:\n",
    "                        totalcurrentassetslist.append ([td.text for td in title.findNextSiblings(attrs={'class': 'valueCell'}) if td.text])\n",
    "                    if 'Net Property, Plant & Equipment' in title.text:\n",
    "                        netpropertylist.append ([td.text for td in title.findNextSiblings(attrs={'class': 'valueCell'}) if td.text])\n",
    "                    if 'Intangible Assets' in title.text:\n",
    "                        intangiblelist.append ([td.text for td in title.findNextSiblings(attrs={'class': 'valueCell'}) if td.text])\n",
    "                    if 'Total Assets' in title.text:\n",
    "                        totalassetslist.append ([td.text for td in title.findNextSiblings(attrs={'class': 'valueCell'}) if td.text])\n",
    "                    if 'Accounts Payable' in title.text:\n",
    "                        accountspayablelist.append ([td.text for td in title.findNextSiblings(attrs={'class': 'valueCell'}) if td.text])\n",
    "                    if 'Total Current Liabilities' in title.text:\n",
    "                        totalcurrentliabilitieslist.append ([td.text for td in title.findNextSiblings(attrs={'class': 'valueCell'}) if td.text])\n",
    "                    if 'Total Liabilities' in title.text:\n",
    "                        totalliabilitieslist.append ([td.text for td in title.findNextSiblings(attrs={'class': 'valueCell'}) if td.text])\n",
    "                    if 'Total Equity' in title.text:\n",
    "                        totalequitylist.append ([td.text for td in title.findNextSiblings(attrs={'class': 'valueCell'}) if td.text])\n",
    "\n",
    "                # Cash Flow\n",
    "                titlescashflow = text_soup_cashflow.findAll('td', {'class': 'rowTitle'})\n",
    "                netoperatingcashflowlist = []\n",
    "                netinvestingcashflowlist = []\n",
    "                for title in titlescashflow:\n",
    "                    if 'Net Operating Cash Flow' in title.text:\n",
    "                        netoperatingcashflowlist.append ([td.text for td in title.findNextSiblings(attrs={'class': 'valueCell'}) if td.text])\n",
    "                    if 'Net Investing Cash Flow' in title.text:\n",
    "                        netinvestingcashflowlist.append ([td.text for td in title.findNextSiblings(attrs={'class': 'valueCell'}) if td.text])\n",
    "\n",
    "                # Income Statement\n",
    "                sales = FinancialStatements.getelementinlist(saleslist,0)\n",
    "                netincome = FinancialStatements.getelementinlist(netincomelist,0)\n",
    "\n",
    "                #Balance Sheet\n",
    "                totalaccountsreceivable = FinancialStatements.getelementinlist(totalaccountsreceivablelist,0)\n",
    "                inventories = FinancialStatements.getelementinlist(inventorieslist,0)\n",
    "                totalcurrentassets = FinancialStatements.getelementinlist(totalcurrentassetslist,0)\n",
    "                netproperty = FinancialStatements.getelementinlist(netpropertylist,0)\n",
    "                intangible = FinancialStatements.getelementinlist(intangiblelist,0)\n",
    "                totalassets = FinancialStatements.getelementinlist(totalassetslist,1)\n",
    "                accountspayable = FinancialStatements.getelementinlist(accountspayablelist,0)\n",
    "                totalcurrentliabilities = FinancialStatements.getelementinlist(totalcurrentliabilitieslist,0)\n",
    "                totalliabilities = FinancialStatements.getelementinlist(totalliabilitieslist,0)\n",
    "                totalequity = FinancialStatements.getelementinlist(totalequitylist,0)\n",
    "\n",
    "                #Cash Flow\n",
    "                netoperatingcashflow = FinancialStatements.getelementinlist(netoperatingcashflowlist,0)\n",
    "                netinvestingcashflow = FinancialStatements.getelementinlist(netinvestingcashflowlist,0)\n",
    "                \n",
    "                financialStatements= pd.DataFrame({'sales': sales,'netincome': netincome, \n",
    "                                                   'totalaccountsreceivable': totalaccountsreceivable, 'inventories': inventories,\n",
    "                                                   'totalcurrentassets': totalcurrentassets, 'netproperty': netproperty,\n",
    "                                                   'intangible': intangible, 'totalassets': totalassets,\n",
    "                                                   'accountspayable': accountspayable, 'totalcurrentliabilities': totalcurrentliabilities,\n",
    "                                                   'totalliabilities': totalliabilities,'totalequity': totalequity, \n",
    "                                                   'netoperatingcashflow': netoperatingcashflow, 'netinvestingcashflow': netinvestingcashflow \n",
    "                                                   }, index = dates)\n",
    "                self.financial_statements.append(financialStatements)\n",
    "                self.stock_list.append(Stocks.iloc[i]['Symbols'])\n",
    "#                 financial_statements.to_csv(root + folder + Stocks.iloc[i]['Symbols']+ 'FinancialStatements' + form, index = True, header=True)\n",
    "            except:\n",
    "                print('An error occurred on ' + Stocks.iloc[i]['Symbols'])\n",
    "    \n",
    "    def toInt(self,financial_statements):\n",
    "        self.int_financial_statements = []\n",
    "        self.int_stock_list = []\n",
    "        percentageCount = 0\n",
    "        i = 0\n",
    "        no_of_financialstatements = len(financial_statements)\n",
    "        for i in range(no_of_financialstatements):\n",
    "            isPercentage = 0\n",
    "            try:\n",
    "                indexes = financial_statements[i].index\n",
    "                columns = financial_statements[i].columns\n",
    "                for column in columns:\n",
    "                    for index in indexes:\n",
    "                        aux = financial_statements[i][column][index]\n",
    "                        if re.search(r'%',aux):\n",
    "                            isPercentage = 1\n",
    "                        if re.search(r'-',aux):\n",
    "                            if re.search(r'%',aux):\n",
    "                                isPercentage = 1\n",
    "                            else:\n",
    "                                aux1 = float(re.sub(r'-','0',aux))\n",
    "                                financial_statements[i][column][index] = int(aux1)\n",
    "                        if re.search(r'T',aux):\n",
    "                            if re.search(r'[()]',aux):\n",
    "                                aux1 = float(re.sub(r'[T()]','',aux))*1000000000000*-1\n",
    "                                financial_statements[i][column][index] = int(aux1)\n",
    "                            else:\n",
    "                                aux1 = float(re.sub(r'[T]','',aux))*1000000000000\n",
    "                                financial_statements[i][column][index] = int(aux1)\n",
    "                        if re.search(r'B',aux):\n",
    "                            if re.search(r'[()]',aux):\n",
    "                                aux1 = float(re.sub(r'[B()]','',aux))*1000000000*-1\n",
    "                                financial_statements[i][column][index] = int(aux1)\n",
    "                            else:\n",
    "                                aux1 = float(re.sub(r'[B]','',aux))*1000000000\n",
    "                                financial_statements[i][column][index] = int(aux1)\n",
    "                        if re.search(r'M',aux):\n",
    "                            if re.search(r'[()]',aux):\n",
    "                                aux1 = float(re.sub(r'[M()]','',aux))*1000000*-1\n",
    "                                financial_statements[i][column][index] = int(aux1)\n",
    "                            else:\n",
    "                                aux1 = float(re.sub(r'[M]','',aux))*1000000\n",
    "                                financial_statements[i][column][index] = int(aux1)\n",
    "            except:\n",
    "                print('An error occurred on ' + self.stock_list[i])\n",
    "            if isPercentage == 0:\n",
    "                self.int_financial_statements.append(financial_statements[i])\n",
    "                self.int_stock_list.append(self.stock_list[i])\n",
    "\n",
    "    def toCsv(self,root,folder,form):\n",
    "        i = 0\n",
    "        for i in range(len(self.int_financial_statements)):\n",
    "            self.int_financial_statements[i].to_csv(root + folder + self.int_stock_list[i] + 'FinancialStatements' + form, index = True, header=True)"
   ]
  },
  {
   "cell_type": "code",
   "execution_count": 3,
   "metadata": {},
   "outputs": [],
   "source": [
    "class FinancialAnalisis: \n",
    "    \n",
    "    def solveMissingDataError(list,numerator,operator):\n",
    "        i = 0\n",
    "        auxlist = []\n",
    "        years = numerator.index\n",
    "        for year in years:\n",
    "            try:\n",
    "                auxlist.append(numerator[year]/operator[year]) \n",
    "            except:\n",
    "                auxlist.append(0)\n",
    "        list.append(numpy.mean(auxlist))\n",
    "\n",
    "    def financialAnalisis(self,intFinancialStatements,stockList,wacc):\n",
    "        i = 0 \n",
    "        no_of_financial_statements = len(intFinancialStatements)\n",
    "        roe = []\n",
    "        currentratio = []\n",
    "        shorttermdebt = []\n",
    "        longtermdebt = []\n",
    "        investingcashflowmargin = []\n",
    "        eva = []\n",
    "        for i in range(no_of_financial_statements):\n",
    "            solveMissingDataError(roe,intFinancialStatements[i]['netincome'],intFinancialStatements[i]['totalequity'])\n",
    "            solveMissingDataError(currentratio,intFinancialStatements[i]['totalcurrentassets'],intFinancialStatements[i]['totalcurrentliabilities'])\n",
    "            solveMissingDataError(shorttermdebt, intFinancialStatements[i]['totalcurrentliabilities'],intFinancialStatements[i]['totalassets'])\n",
    "            solveMissingDataError(longtermdebt,intFinancialStatements[i]['totalliabilities'],intFinancialStatements[i]['totalassets'])\n",
    "            solveMissingDataError(investingcashflowmargin,intFinancialStatements[i]['netinvestingcashflow'],intFinancialStatements[i]['sales'])\n",
    "            ktno = intFinancialStatements[i]['totalaccountsreceivable'] + intFinancialStatements[i]['inventories'] - intFinancialStatements[i]['accountspayable']\n",
    "            fixedassets = intFinancialStatements[i]['netproperty'] + intFinancialStatements[i]['intangible']\n",
    "            andeo = ktno + fixedassets\n",
    "            eva.append(numpy.mean(intFinancialStatements[i]['netoperatingcashflow'] - andeo * wacc['WACC'][0]))\n",
    "\n",
    "        self.financial_analisis = pd.DataFrame({\n",
    "            'roe': roe,\n",
    "            'currentratio': currentratio,\n",
    "            'shorttermdebt': shorttermdebt,\n",
    "            'longtermdebt': longtermdebt,\n",
    "            'investingcashflowmargin': investingcashflowmargin,\n",
    "            'eva': eva,\n",
    "        },index = [stockList])\n",
    "        \n",
    "    def toCsv(self,root,folder,form):\n",
    "        self.financial_analisis.to_csv(root + folder + 'FinancialAnalisis' + form, index = True, header=True)"
   ]
  },
  {
   "cell_type": "code",
   "execution_count": 4,
   "metadata": {},
   "outputs": [],
   "source": [
    "dates = [2015,2016,2017,2018,2019]\n",
    "root = './Stocks/'\n",
    "form = '.csv'"
   ]
  },
  {
   "cell_type": "code",
   "execution_count": 16,
   "metadata": {},
   "outputs": [],
   "source": [
    "# Highly problematic sectors"
   ]
  },
  {
   "cell_type": "code",
   "execution_count": 17,
   "metadata": {},
   "outputs": [],
   "source": [
    "folder = 'Financial/'\n",
    "Stocks = pd.read_csv('./FinancialStocks.csv')\n",
    "FinancialfinancialStatements = FinancialStatements()\n",
    "FinancialfinancialStatements.getFinancialStatements(Stocks, dates)\n",
    "FinancialfinancialStatements.toInt(FinancialfinancialStatements.financial_statements)"
   ]
  },
  {
   "cell_type": "code",
   "execution_count": 18,
   "metadata": {},
   "outputs": [
    {
     "data": {
      "text/plain": [
       "66"
      ]
     },
     "execution_count": 18,
     "metadata": {},
     "output_type": "execute_result"
    }
   ],
   "source": [
    "len(FinancialfinancialStatements.financial_statements)"
   ]
  },
  {
   "cell_type": "code",
   "execution_count": 42,
   "metadata": {},
   "outputs": [
    {
     "data": {
      "text/plain": [
       "['AFL',\n",
       " 'AIG',\n",
       " 'AIZ',\n",
       " 'AJG',\n",
       " 'ALL',\n",
       " 'AMP',\n",
       " 'AON',\n",
       " 'AXP',\n",
       " 'BAC',\n",
       " 'BEN',\n",
       " 'BK',\n",
       " 'BLK',\n",
       " 'BRK.B',\n",
       " 'C',\n",
       " 'CB',\n",
       " 'CBOE',\n",
       " 'CFG',\n",
       " 'CINF',\n",
       " 'CMA',\n",
       " 'CME',\n",
       " 'COF',\n",
       " 'DFS',\n",
       " 'ETFC',\n",
       " 'FITB',\n",
       " 'FRC',\n",
       " 'GL',\n",
       " 'GS',\n",
       " 'HBAN',\n",
       " 'HIG',\n",
       " 'ICE',\n",
       " 'IVZ',\n",
       " 'JPM',\n",
       " 'KEY',\n",
       " 'L',\n",
       " 'LNC',\n",
       " 'MCO',\n",
       " 'MET',\n",
       " 'MKTX',\n",
       " 'MMC',\n",
       " 'MS',\n",
       " 'MSCI',\n",
       " 'MTB',\n",
       " 'NDAQ',\n",
       " 'NTRS',\n",
       " 'PBCT',\n",
       " 'PFG',\n",
       " 'PGR',\n",
       " 'PNC',\n",
       " 'PRU',\n",
       " 'RE',\n",
       " 'RF',\n",
       " 'RJF',\n",
       " 'SCHW',\n",
       " 'SIVB',\n",
       " 'SPGI',\n",
       " 'STT',\n",
       " 'SYF',\n",
       " 'TFC',\n",
       " 'TROW',\n",
       " 'TRV',\n",
       " 'UNM',\n",
       " 'USB',\n",
       " 'WFC',\n",
       " 'WLTW',\n",
       " 'WRB',\n",
       " 'ZION']"
      ]
     },
     "execution_count": 42,
     "metadata": {},
     "output_type": "execute_result"
    }
   ],
   "source": [
    "FinancialfinancialStatements.stock_list"
   ]
  },
  {
   "cell_type": "code",
   "execution_count": 19,
   "metadata": {},
   "outputs": [
    {
     "data": {
      "text/plain": [
       "5"
      ]
     },
     "execution_count": 19,
     "metadata": {},
     "output_type": "execute_result"
    }
   ],
   "source": [
    "len(FinancialfinancialStatements.int_financial_statements)"
   ]
  },
  {
   "cell_type": "code",
   "execution_count": 40,
   "metadata": {},
   "outputs": [
    {
     "data": {
      "text/plain": [
       "[     sales netincome totalaccountsreceivable inventories totalcurrentassets  \\\n",
       " 2015     0         0                       0           0                  0   \n",
       " 2016     0         0                       0           0                  0   \n",
       " 2017     0         0                       0           0                  0   \n",
       " 2018     0         0                       0           0                  0   \n",
       " 2019     0         0                       0           0                  0   \n",
       " \n",
       "      netproperty intangible totalassets accountspayable  \\\n",
       " 2015           0          0           0               0   \n",
       " 2016           0          0           0               0   \n",
       " 2017           0          0           0               0   \n",
       " 2018           0          0           0               0   \n",
       " 2019           0          0           0               0   \n",
       " \n",
       "      totalcurrentliabilities totalliabilities totalequity  \\\n",
       " 2015                       0                0           0   \n",
       " 2016                       0                0           0   \n",
       " 2017                       0                0           0   \n",
       " 2018                       0                0           0   \n",
       " 2019                       0                0           0   \n",
       " \n",
       "      netoperatingcashflow netinvestingcashflow  \n",
       " 2015                    0                    0  \n",
       " 2016                    0                    0  \n",
       " 2017                    0                    0  \n",
       " 2018                    0                    0  \n",
       " 2019                    0                    0  ,\n",
       "              sales    netincome totalaccountsreceivable  inventories  \\\n",
       " 2015  210000000000  24410000000             36080000000  11920000000   \n",
       " 2016  222940000000  24430000000             40400000000  15730000000   \n",
       " 2017  239930000000  45350000000             46670000000  17370000000   \n",
       " 2018  247840000000   4320000000             51510000000  19070000000   \n",
       " 2019  254620000000  81790000000             53360000000  19850000000   \n",
       " \n",
       "      totalcurrentassets   netproperty    intangible   totalassets  \\\n",
       " 2015       119720000000  145170000000   72510000000  552260000000   \n",
       " 2016       142490000000  152770000000  113570000000  620850000000   \n",
       " 2017       179990000000  158220000000  114440000000  702100000000   \n",
       " 2018       182450000000  166710000000  113170000000  707790000000   \n",
       " 2019       201210000000  180280000000  113530000000  817730000000   \n",
       " \n",
       "      accountspayable totalcurrentliabilities totalliabilities   totalequity  \\\n",
       " 2015     31270000000             33259999999     293630000000  258630000000   \n",
       " 2016     35040000000             47390000000     334500000000  286360000000   \n",
       " 2017     35900000000             42220000000     350140000000  351950000000   \n",
       " 2018     33689999999             50270000000     355290000000  352500000000   \n",
       " 2019     36440000000             51540000000     389170000000  428560000000   \n",
       " \n",
       "      netoperatingcashflow netinvestingcashflow  \n",
       " 2015          31490000000         -28000000000  \n",
       " 2016          32540000000         -84270000000  \n",
       " 2017          45730000000         -41010000000  \n",
       " 2018          37400000000         -32850000000  \n",
       " 2019          38690000000          -5620000000  ,\n",
       "            sales   netincome totalaccountsreceivable inventories  \\\n",
       " 2015  3480000000   949600000               802000000           0   \n",
       " 2016  3600000000   275800000               887400000           0   \n",
       " 2017  4200000000  1010000000              1150000000           0   \n",
       " 2018  4440000000  1320000000              1290000000           0   \n",
       " 2019  4830000000  1430000000              1420000000           0   \n",
       " \n",
       "      totalcurrentassets netproperty  intangible  totalassets accountspayable  \\\n",
       " 2015         3240000000   306400000  1280000000   5100000000        22200000   \n",
       " 2016         3250000000   325900000  1320000000   5330000000        28400000   \n",
       " 2017         2580000000   325100000  5380000000   8590000000        21800000   \n",
       " 2018         3390000000   320400000  5350000000   9530000000        30100000   \n",
       " 2019         3680000000   748000000  5220000000  10270000000        38000000   \n",
       " \n",
       "      totalcurrentliabilities totalliabilities  totalequity  \\\n",
       " 2015              1220000000       5440000000   -333000000   \n",
       " 2016              2430000000       6350000000  -1030000000   \n",
       " 2017              2060000000       8710000000   -114900000   \n",
       " 2018              2100000000       8870000000    656500000   \n",
       " 2019              1910000000       9430000000    837000000   \n",
       " \n",
       "      netoperatingcashflow netinvestingcashflow  \n",
       " 2015           1150000000            -92000000  \n",
       " 2016           1230000000             56600000  \n",
       " 2017            754600000          -3430000000  \n",
       " 2018           1460000000           -406400000  \n",
       " 2019           1690000000             24000000  ,\n",
       "            sales  netincome totalaccountsreceivable inventories  \\\n",
       " 2015  1080000000  230040000               208240000           0   \n",
       " 2016  1150000000  260860000               221500000           0   \n",
       " 2017  1270000000  303970000               327600000           0   \n",
       " 2018  1430000000  507890000               473430000           0   \n",
       " 2019  1560000000  563650000               499270000           0   \n",
       " \n",
       "      totalcurrentassets netproperty  intangible totalassets accountspayable  \\\n",
       " 2015         1060000000    98930000  1960000000  3150000000         2510000   \n",
       " 2016         1060000000    95590000  1900000000  3080000000         568,000   \n",
       " 2017         1270000000    94440000  1880000000  3280000000         1610000   \n",
       " 2018         1430000000    90880000  1830000000  3390000000         3890000   \n",
       " 2019         2080000000   257110000  1820000000  4200000000         6500000   \n",
       " \n",
       "      totalcurrentliabilities totalliabilities totalequity  \\\n",
       " 2015               498120000       2250000000   901490000   \n",
       " 2016               536570000       2760000000   317610000   \n",
       " 2017               607670000       2870000000   401010000   \n",
       " 2018               809010000       3550000000  -166490000   \n",
       " 2019               900790000       4280000000   -76710000   \n",
       " \n",
       "      netoperatingcashflow netinvestingcashflow  \n",
       " 2015            305990000            -48860000  \n",
       " 2016            434740000            -42030000  \n",
       " 2017            404160000            -48050000  \n",
       " 2018            612760000             34870000  \n",
       " 2019            729770000            -71940000  ,\n",
       "            sales   netincome totalaccountsreceivable inventories  \\\n",
       " 2015  5310000000  1270000000               991000000           0   \n",
       " 2016  5660000000  2230000000              1120000000           0   \n",
       " 2017  6060000000  1640000000              1320000000           0   \n",
       " 2018  6260000000  2120000000              1450000000           0   \n",
       " 2019  6700000000  2300000000              1580000000           0   \n",
       " \n",
       "      totalcurrentassets netproperty  intangible  totalassets accountspayable  \\\n",
       " 2015         3300000000   270000000  4400000000   8180000000       206000000   \n",
       " 2016         3670000000   271000000  4460000000   8670000000       183000000   \n",
       " 2017         4320000000   275000000  4380000000   9430000000       195000000   \n",
       " 2018         3590000000   270000000  5060000000   9440000000       211000000   \n",
       " 2019         4710000000   996000000  5000000000  11350000000       190000000   \n",
       " \n",
       "      totalcurrentliabilities totalliabilities totalequity  \\\n",
       " 2015              2910000000       7020000000  1160000000   \n",
       " 2016              2610000000       6890000000  1780000000   \n",
       " 2017              3210000000       7310000000  2120000000   \n",
       " 2018              2630000000       7140000000  2300000000   \n",
       " 2019              3090000000       8539999999  2800000000   \n",
       " \n",
       "      netoperatingcashflow netinvestingcashflow  \n",
       " 2015            195000000          -2650000000  \n",
       " 2016           1460000000           1210000000  \n",
       " 2017           2020000000           -209000000  \n",
       " 2018           2060000000           -513000000  \n",
       " 2019           2780000000           -131000000  ]"
      ]
     },
     "execution_count": 40,
     "metadata": {},
     "output_type": "execute_result"
    }
   ],
   "source": [
    "FinancialfinancialStatements.int_financial_statements"
   ]
  },
  {
   "cell_type": "code",
   "execution_count": 31,
   "metadata": {},
   "outputs": [
    {
     "data": {
      "text/plain": [
       "['AON', 'BRK.B', 'MCO', 'MSCI', 'SPGI']"
      ]
     },
     "execution_count": 31,
     "metadata": {},
     "output_type": "execute_result"
    }
   ],
   "source": [
    "FinancialfinancialStatements.int_stock_list"
   ]
  },
  {
   "cell_type": "code",
   "execution_count": 20,
   "metadata": {},
   "outputs": [],
   "source": [
    "folder = 'RealS/'\n",
    "Stocks = pd.read_csv('./RealSStocks.csv')\n",
    "RealSfinancialStatements = FinancialStatements()\n",
    "RealSfinancialStatements.getFinancialStatements(Stocks, dates)\n",
    "RealSfinancialStatements.toInt(RealSfinancialStatements.financial_statements)"
   ]
  },
  {
   "cell_type": "code",
   "execution_count": 21,
   "metadata": {},
   "outputs": [
    {
     "data": {
      "text/plain": [
       "31"
      ]
     },
     "execution_count": 21,
     "metadata": {},
     "output_type": "execute_result"
    }
   ],
   "source": [
    "len(RealSfinancialStatements.financial_statements)"
   ]
  },
  {
   "cell_type": "code",
   "execution_count": 22,
   "metadata": {},
   "outputs": [
    {
     "data": {
      "text/plain": [
       "1"
      ]
     },
     "execution_count": 22,
     "metadata": {},
     "output_type": "execute_result"
    }
   ],
   "source": [
    "len(RealSfinancialStatements.int_financial_statements)"
   ]
  },
  {
   "cell_type": "code",
   "execution_count": 41,
   "metadata": {},
   "outputs": [
    {
     "data": {
      "text/plain": [
       "[            sales   netincome totalaccountsreceivable inventories  \\\n",
       " 2015  10860000000   558880000              4300000000           0   \n",
       " 2016  13070000000   584060000              3930000000           0   \n",
       " 2017  18630000000   703580000              4360000000           0   \n",
       " 2018  21340000000  1070000000              5390000000           0   \n",
       " 2019  23890000000  1290000000              5880000000           0   \n",
       " \n",
       "      totalcurrentassets netproperty  intangible  totalassets accountspayable  \\\n",
       " 2015         5310000000   529820000  4540000000  11020000000      1480000000   \n",
       " 2016         5120000000   560760000  4390000000  10780000000      1450000000   \n",
       " 2017         5630000000   617740000  4650000000  11720000000      1570000000   \n",
       " 2018         6750000000   721690000  5090000000  13460000000      1920000000   \n",
       " 2019         7530000000  1930000000  5130000000  16200000000      2440000000   \n",
       " \n",
       "      totalcurrentliabilities totalliabilities totalequity  \\\n",
       " 2015              4990000000       8260000000  2760000000   \n",
       " 2016              4530000000       7720000000  3060000000   \n",
       " 2017              4710000000       7540000000  4170000000   \n",
       " 2018              5800000000       8449999999  5010000000   \n",
       " 2019              6440000000       9920000000  6270000000   \n",
       " \n",
       "      netoperatingcashflow netinvestingcashflow  \n",
       " 2015            839470000          -1750000000  \n",
       " 2016            663760000           -216060000  \n",
       " 2017            904310000           -360960000  \n",
       " 2018           1140000000           -597040000  \n",
       " 2019           1190000000           -707700000  ]"
      ]
     },
     "execution_count": 41,
     "metadata": {},
     "output_type": "execute_result"
    }
   ],
   "source": [
    "RealSfinancialStatements.int_financial_statements"
   ]
  },
  {
   "cell_type": "code",
   "execution_count": 43,
   "metadata": {},
   "outputs": [
    {
     "data": {
      "text/plain": [
       "['AIV',\n",
       " 'AMT',\n",
       " 'ARE',\n",
       " 'AVB',\n",
       " 'BXP',\n",
       " 'CBRE',\n",
       " 'CCI',\n",
       " 'DLR',\n",
       " 'DRE',\n",
       " 'EQIX',\n",
       " 'EQR',\n",
       " 'ESS',\n",
       " 'EXR',\n",
       " 'FRT',\n",
       " 'HST',\n",
       " 'IRM',\n",
       " 'KIM',\n",
       " 'MAA',\n",
       " 'O',\n",
       " 'PEAK',\n",
       " 'PLD',\n",
       " 'PSA',\n",
       " 'REG',\n",
       " 'SBAC',\n",
       " 'SLG',\n",
       " 'SPG',\n",
       " 'UDR',\n",
       " 'VNO',\n",
       " 'VTR',\n",
       " 'WELL',\n",
       " 'WY']"
      ]
     },
     "execution_count": 43,
     "metadata": {},
     "output_type": "execute_result"
    }
   ],
   "source": [
    "RealSfinancialStatements.stock_list"
   ]
  },
  {
   "cell_type": "code",
   "execution_count": 44,
   "metadata": {},
   "outputs": [
    {
     "data": {
      "text/plain": [
       "['CBRE']"
      ]
     },
     "execution_count": 44,
     "metadata": {},
     "output_type": "execute_result"
    }
   ],
   "source": [
    "RealSfinancialStatements.int_stock_list"
   ]
  },
  {
   "cell_type": "code",
   "execution_count": null,
   "metadata": {},
   "outputs": [],
   "source": []
  }
 ],
 "metadata": {
  "kernelspec": {
   "display_name": "Python 3",
   "language": "python",
   "name": "python3"
  },
  "language_info": {
   "codemirror_mode": {
    "name": "ipython",
    "version": 3
   },
   "file_extension": ".py",
   "mimetype": "text/x-python",
   "name": "python",
   "nbconvert_exporter": "python",
   "pygments_lexer": "ipython3",
   "version": "3.7.3"
  }
 },
 "nbformat": 4,
 "nbformat_minor": 4
}
