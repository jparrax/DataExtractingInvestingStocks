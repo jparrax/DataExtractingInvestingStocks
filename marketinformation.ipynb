{
 "cells": [
  {
   "cell_type": "code",
   "execution_count": 2,
   "metadata": {},
   "outputs": [],
   "source": [
    "import pandas as pd\n",
    "import investpy\n",
    "import math\n",
    "import numpy as np\n",
    "from bs4 import BeautifulSoup\n",
    "import requests"
   ]
  },
  {
   "cell_type": "code",
   "execution_count": 3,
   "metadata": {},
   "outputs": [],
   "source": [
    "class Portfolio:\n",
    "    \n",
    "    def downloadRawMarketInfo(self, Stocks, begin, end, root, folder, year, form):\n",
    "        i = 0\n",
    "        no_of_stocks = len(Stocks.index)\n",
    "        for i in range (no_of_stocks):\n",
    "            try:\n",
    "                Stock = investpy.get_stock_historical_data(stock= Stocks.iloc[i]['Symbols'],\n",
    "                                                        country='United states',\n",
    "                                                        from_date = begin,\n",
    "                                                        to_date = end)\n",
    "                StockPandas = pd.DataFrame(Stock)\n",
    "                StockPandas.to_csv (root + folder + Stocks.iloc[i]['Symbols'] + year + form, index = True, header=True)\n",
    "            except:\n",
    "                print('An error occurred on ' + Stocks.iloc[i]['Symbols'])\n",
    "    \n",
    "    def createPortfolio(self, Stocks, begin, end):\n",
    "        Portfolio = pd.DataFrame()\n",
    "        no_of_stocks = len(Stocks.index)\n",
    "        for i in range (no_of_stocks):\n",
    "            try:\n",
    "                Stock = investpy.get_stock_historical_data(stock= Stocks.iloc[i]['Symbols'],\n",
    "                                                            country='United states',\n",
    "                                                            from_date= begin,\n",
    "                                                            to_date= end)\n",
    "                StockPandas = pd.DataFrame(Stock)\n",
    "                Portfolio[Stocks.iloc[i]['Symbols']] = StockPandas['Close']\n",
    "            except:\n",
    "                print('An error occurred on ' + Stocks.iloc[i]['Symbols'])\n",
    "        self.myPortfolio = Portfolio"
   ]
  },
  {
   "cell_type": "code",
   "execution_count": 4,
   "metadata": {},
   "outputs": [],
   "source": [
    "class PortfolioData:        \n",
    "    def setInfo(self,Portfolio):\n",
    "        Last_price = Portfolio.iloc[len(Portfolio)-1]\n",
    "        Total_last_price = Portfolio.iloc[len(Portfolio)-1].sum()\n",
    "\n",
    "        Returns = pd.DataFrame(np.log(Portfolio)-np.log(Portfolio.shift(1)))\n",
    "\n",
    "        Weights = Portfolio.iloc[len(Portfolio)-1]*(1/Portfolio.iloc[len(Portfolio)-1].sum())\n",
    "        Returns_mean = Returns.mean()\n",
    "        Returns_std = Returns.std()\n",
    "        Anual_returns_mean = Returns.mean() * 252\n",
    "        Anual_returns_std = Returns.std() * math.sqrt(252)\n",
    "        Cov_returns = Returns.cov()\n",
    "\n",
    "        Returns_mean_portfolio = Weights.transpose().dot(Returns_mean)\n",
    "        Anual_returns_mean_portfolio = Weights.transpose().dot(Anual_returns_mean)\n",
    "        Var_portfolio = (Weights.transpose().dot(Cov_returns)).dot(Weights)\n",
    "        Returns_std_portfolio = math.sqrt(Var_portfolio)\n",
    "        Anual_returns_std_portfolio = Returns_std_portfolio * math.sqrt(252)\n",
    "        \n",
    "        self.portfolio = Portfolio\n",
    "        \n",
    "        self.returns = Returns\n",
    "        self.stocks_info = pd.DataFrame({\n",
    "            \"weights\": Weights,\n",
    "            \"returns\": Returns_mean,\n",
    "            \"anual_returns\": Anual_returns_mean,\n",
    "            \"std\": Returns_std,\n",
    "            \"anual_std\": Anual_returns_std\n",
    "        })\n",
    "        \n",
    "        self.weights = Weights\n",
    "        self.returns_mean = Returns_mean\n",
    "        self.returns_std = Returns_std\n",
    "        self.anual_returns_mean = Anual_returns_mean\n",
    "        self.anual_returns_std = Anual_returns_std\n",
    "        \n",
    "        self.portfolio_info = pd.DataFrame({\n",
    "            \"Portfolio mean return\": [Returns_mean_portfolio],\n",
    "            \"Anual portfolio mean return\": [Anual_returns_mean_portfolio],\n",
    "            \"Portfolio std return\": [Returns_std_portfolio], \n",
    "            \"Anual portfolio std return\": [Anual_returns_std_portfolio]\n",
    "        })\n",
    "        \n",
    "    def info_to_csv(self,root,folder,year,form):\n",
    "        self.portfolio.to_csv(root + folder + 'Portfolio' + year + form, index = True, header=True)\n",
    "        self.returns.to_csv(root + folder + 'Returns' + year + form, index = True, header=True)\n",
    "        self.stocks_info.to_csv(root + folder + 'Stocks Info' + year + form, index = True, header=True)\n",
    "        self.portfolio_info.to_csv(root + folder + 'Portfolio Info' + year + form, index = True, header=True)"
   ]
  },
  {
   "cell_type": "code",
   "execution_count": 5,
   "metadata": {},
   "outputs": [],
   "source": [
    "# Clearing variables\n",
    "i = 0\n",
    "no_of_stocks = 0 \n",
    "# Defines the root and folder in which you want to save the file\n",
    "root = './Stocks/'\n",
    "folder = ''\n",
    "# Keep this as csv\n",
    "form = '.csv'\n",
    "# Input the timeframe that you are interested about\n",
    "begin = '01/03/2007'\n",
    "end ='01/03/2009'\n",
    "# Input a year to call the csv files\n",
    "year = '2007'\n",
    "# Select a file with stocks\n",
    "Stocks = pd.read_csv('./Stocks.csv')"
   ]
  },
  {
   "cell_type": "code",
   "execution_count": 40,
   "metadata": {},
   "outputs": [
    {
     "name": "stdout",
     "output_type": "stream",
     "text": [
      "An error occurred on ABC\n",
      "An error occurred on AMCR\n",
      "An error occurred on ANET\n",
      "An error occurred on ARNC\n",
      "An error occurred on BF.B\n",
      "An error occurred on BRK.B\n",
      "An error occurred on CFG\n",
      "An error occurred on CMG\n",
      "An error occurred on CTVA\n",
      "An error occurred on FOX\n",
      "An error occurred on FOXA\n",
      "An error occurred on FTV\n",
      "An error occurred on GOOG\n",
      "An error occurred on HAL\n",
      "An error occurred on HPE\n",
      "An error occurred on INFO\n",
      "An error occurred on IRM\n",
      "An error occurred on J\n",
      "An error occurred on KEYS\n",
      "An error occurred on LIN\n",
      "An error occurred on LOW\n",
      "An error occurred on LW\n",
      "An error occurred on PAYC\n",
      "An error occurred on PGR\n",
      "An error occurred on PYPL\n",
      "An error occurred on RTN\n",
      "An error occurred on SYF\n",
      "An error occurred on TFC\n",
      "An error occurred on TROW\n",
      "An error occurred on TT\n",
      "An error occurred on UA\n",
      "An error occurred on ULTA\n",
      "An error occurred on VIAC\n",
      "An error occurred on WRK\n"
     ]
    }
   ],
   "source": [
    "rawMarketData = Portfolio()\n",
    "rawMarketData.downloadRawMarketInfo(Stocks, begin, end, root, folder, year, form)"
   ]
  },
  {
   "cell_type": "code",
   "execution_count": 41,
   "metadata": {},
   "outputs": [
    {
     "name": "stdout",
     "output_type": "stream",
     "text": [
      "An error occurred on ABC\n",
      "An error occurred on AMCR\n",
      "An error occurred on ANET\n",
      "An error occurred on ARNC\n",
      "An error occurred on BF.B\n",
      "An error occurred on BRK.B\n",
      "An error occurred on CFG\n",
      "An error occurred on CMG\n",
      "An error occurred on CTVA\n",
      "An error occurred on FOX\n",
      "An error occurred on FOXA\n",
      "An error occurred on FTV\n",
      "An error occurred on GOOG\n",
      "An error occurred on HAL\n",
      "An error occurred on HPE\n",
      "An error occurred on INFO\n",
      "An error occurred on IRM\n",
      "An error occurred on J\n",
      "An error occurred on KEYS\n",
      "An error occurred on LIN\n",
      "An error occurred on LOW\n",
      "An error occurred on LW\n",
      "An error occurred on PAYC\n",
      "An error occurred on PGR\n",
      "An error occurred on PYPL\n",
      "An error occurred on RTN\n",
      "An error occurred on SYF\n",
      "An error occurred on TFC\n",
      "An error occurred on TROW\n",
      "An error occurred on TT\n",
      "An error occurred on UA\n",
      "An error occurred on ULTA\n",
      "An error occurred on VIAC\n",
      "An error occurred on WRK\n"
     ]
    }
   ],
   "source": [
    "folder = 'Portfolio/'\n",
    "createPortfolio = Portfolio()\n",
    "createPortfolio.createPortfolio(Stocks, begin, end)\n",
    "portfolioData = PortfolioData()\n",
    "portfolioData.setInfo(createPortfolio.myPortfolio)\n",
    "portfolioData.info_to_csv(root,folder,year,form) "
   ]
  },
  {
   "cell_type": "code",
   "execution_count": 42,
   "metadata": {},
   "outputs": [
    {
     "name": "stdout",
     "output_type": "stream",
     "text": [
      "An error occurred on FOX\n",
      "An error occurred on FOXA\n",
      "An error occurred on GOOG\n",
      "An error occurred on VIAC\n"
     ]
    }
   ],
   "source": [
    "folder = 'Communication/'\n",
    "Stocks = pd.read_csv('./CommunicationStocks.csv')\n",
    "createPortfolio = Portfolio()\n",
    "createPortfolio.createPortfolio(Stocks, begin, end)\n",
    "portfolioData = PortfolioData()\n",
    "portfolioData.setInfo(createPortfolio.myPortfolio)\n",
    "portfolioData.info_to_csv(root,folder,year,form) "
   ]
  },
  {
   "cell_type": "code",
   "execution_count": 43,
   "metadata": {},
   "outputs": [
    {
     "name": "stdout",
     "output_type": "stream",
     "text": [
      "An error occurred on CMG\n",
      "An error occurred on LOW\n",
      "An error occurred on UA\n",
      "An error occurred on ULTA\n"
     ]
    }
   ],
   "source": [
    "folder = 'Consumer/'\n",
    "Stocks = pd.read_csv('./ConsumerStocks.csv')\n",
    "createPortfolio = Portfolio()\n",
    "createPortfolio.createPortfolio(Stocks, begin, end)\n",
    "portfolioData = PortfolioData()\n",
    "portfolioData.setInfo(createPortfolio.myPortfolio)\n",
    "portfolioData.info_to_csv(root,folder,year,form) "
   ]
  },
  {
   "cell_type": "code",
   "execution_count": 44,
   "metadata": {},
   "outputs": [
    {
     "name": "stdout",
     "output_type": "stream",
     "text": [
      "An error occurred on BF.B\n",
      "An error occurred on LW\n"
     ]
    }
   ],
   "source": [
    "folder = 'ConsumerS/'\n",
    "Stocks = pd.read_csv('./ConsumerSStocks.csv')\n",
    "createPortfolio = Portfolio()\n",
    "createPortfolio.createPortfolio(Stocks, begin, end)\n",
    "portfolioData = PortfolioData()\n",
    "portfolioData.setInfo(createPortfolio.myPortfolio)\n",
    "portfolioData.info_to_csv(root,folder,year,form) "
   ]
  },
  {
   "cell_type": "code",
   "execution_count": 45,
   "metadata": {},
   "outputs": [
    {
     "name": "stdout",
     "output_type": "stream",
     "text": [
      "An error occurred on HAL\n"
     ]
    }
   ],
   "source": [
    "folder = 'Energies/'\n",
    "Stocks = pd.read_csv('./EnergiesStocks.csv')\n",
    "createPortfolio = Portfolio()\n",
    "createPortfolio.createPortfolio(Stocks, begin, end)\n",
    "portfolioData = PortfolioData()\n",
    "portfolioData.setInfo(createPortfolio.myPortfolio)\n",
    "portfolioData.info_to_csv(root,folder,year,form) "
   ]
  },
  {
   "cell_type": "code",
   "execution_count": 46,
   "metadata": {},
   "outputs": [
    {
     "name": "stdout",
     "output_type": "stream",
     "text": [
      "An error occurred on BRK.B\n",
      "An error occurred on CFG\n",
      "An error occurred on PGR\n",
      "An error occurred on SYF\n",
      "An error occurred on TFC\n",
      "An error occurred on TROW\n"
     ]
    }
   ],
   "source": [
    "folder = 'Financial/'\n",
    "Stocks = pd.read_csv('./FinancialStocks.csv')\n",
    "createPortfolio = Portfolio()\n",
    "createPortfolio.createPortfolio(Stocks, begin, end)\n",
    "portfolioData = PortfolioData()\n",
    "portfolioData.setInfo(createPortfolio.myPortfolio)\n",
    "portfolioData.info_to_csv(root,folder,year,form) "
   ]
  },
  {
   "cell_type": "code",
   "execution_count": null,
   "metadata": {},
   "outputs": [
    {
     "name": "stdout",
     "output_type": "stream",
     "text": [
      "An error occurred on ABC\n"
     ]
    }
   ],
   "source": [
    "folder = 'Health/'\n",
    "Stocks = pd.read_csv('./HealthStocks.csv')\n",
    "createPortfolio = Portfolio()\n",
    "createPortfolio.createPortfolio(Stocks, begin, end)\n",
    "portfolioData = PortfolioData()\n",
    "portfolioData.setInfo(createPortfolio.myPortfolio)\n",
    "portfolioData.info_to_csv(root,folder,year,form) "
   ]
  },
  {
   "cell_type": "code",
   "execution_count": null,
   "metadata": {},
   "outputs": [],
   "source": [
    "folder = 'Industrial/'\n",
    "Stocks = pd.read_csv('./IndustrialStocks.csv')\n",
    "createPortfolio = Portfolio()\n",
    "createPortfolio.createPortfolio(Stocks, begin, end)\n",
    "portfolioData = PortfolioData()\n",
    "portfolioData.setInfo(createPortfolio.myPortfolio)\n",
    "portfolioData.info_to_csv(root,folder,year,form) "
   ]
  },
  {
   "cell_type": "code",
   "execution_count": null,
   "metadata": {},
   "outputs": [],
   "source": [
    "folder = 'IT/'\n",
    "Stocks = pd.read_csv('./ITStocks.csv')\n",
    "createPortfolio = Portfolio()\n",
    "createPortfolio.createPortfolio(Stocks, begin, end)\n",
    "portfolioData = PortfolioData()\n",
    "portfolioData.setInfo(createPortfolio.myPortfolio)\n",
    "portfolioData.info_to_csv(root,folder,year,form) "
   ]
  },
  {
   "cell_type": "code",
   "execution_count": null,
   "metadata": {},
   "outputs": [],
   "source": [
    "folder = 'Materials/'\n",
    "Stocks = pd.read_csv('./MaterialsStocks.csv')\n",
    "createPortfolio = Portfolio()\n",
    "createPortfolio.createPortfolio(Stocks, begin, end)\n",
    "portfolioData = PortfolioData()\n",
    "portfolioData.setInfo(createPortfolio.myPortfolio)\n",
    "portfolioData.info_to_csv(root,folder,year,form) "
   ]
  },
  {
   "cell_type": "code",
   "execution_count": 7,
   "metadata": {},
   "outputs": [
    {
     "name": "stdout",
     "output_type": "stream",
     "text": [
      "An error occurred on IRM\n"
     ]
    }
   ],
   "source": [
    "folder = 'RealS/'\n",
    "Stocks = pd.read_csv('./RealSStocks.csv')\n",
    "createPortfolio = Portfolio()\n",
    "createPortfolio.createPortfolio(Stocks, begin, end)\n",
    "portfolioData = PortfolioData()\n",
    "portfolioData.setInfo(createPortfolio.myPortfolio)\n",
    "portfolioData.info_to_csv(root,folder,year,form) "
   ]
  },
  {
   "cell_type": "code",
   "execution_count": 6,
   "metadata": {},
   "outputs": [],
   "source": [
    "folder = 'Utilities/'\n",
    "Stocks = pd.read_csv('./UtilitiesStocks.csv')\n",
    "createPortfolio = Portfolio()\n",
    "createPortfolio.createPortfolio(Stocks, begin, end)\n",
    "portfolioData = PortfolioData()\n",
    "portfolioData.setInfo(createPortfolio.myPortfolio)\n",
    "portfolioData.info_to_csv(root,folder,year,form) "
   ]
  },
  {
   "cell_type": "code",
   "execution_count": null,
   "metadata": {},
   "outputs": [],
   "source": []
  }
 ],
 "metadata": {
  "kernelspec": {
   "display_name": "Python 3",
   "language": "python",
   "name": "python3"
  },
  "language_info": {
   "codemirror_mode": {
    "name": "ipython",
    "version": 3
   },
   "file_extension": ".py",
   "mimetype": "text/x-python",
   "name": "python",
   "nbconvert_exporter": "python",
   "pygments_lexer": "ipython3",
   "version": "3.7.3"
  }
 },
 "nbformat": 4,
 "nbformat_minor": 4
}
